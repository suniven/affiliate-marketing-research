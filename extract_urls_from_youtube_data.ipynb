{
 "cells": [
  {
   "cell_type": "code",
   "execution_count": 1,
   "metadata": {},
   "outputs": [],
   "source": [
    "import pandas as pd"
   ]
  },
  {
   "cell_type": "code",
   "execution_count": 2,
   "metadata": {},
   "outputs": [],
   "source": [
    "df = pd.read_csv('./data/to find substrings/youtube-76-substrings.csv')"
   ]
  },
  {
   "cell_type": "code",
   "execution_count": 3,
   "metadata": {},
   "outputs": [
    {
     "data": {
      "text/html": [
       "<div>\n",
       "<style scoped>\n",
       "    .dataframe tbody tr th:only-of-type {\n",
       "        vertical-align: middle;\n",
       "    }\n",
       "\n",
       "    .dataframe tbody tr th {\n",
       "        vertical-align: top;\n",
       "    }\n",
       "\n",
       "    .dataframe thead th {\n",
       "        text-align: right;\n",
       "    }\n",
       "</style>\n",
       "<table border=\"1\" class=\"dataframe\">\n",
       "  <thead>\n",
       "    <tr style=\"text-align: right;\">\n",
       "      <th></th>\n",
       "      <th>videoId</th>\n",
       "      <th>publishedAt</th>\n",
       "      <th>channelId</th>\n",
       "      <th>title</th>\n",
       "      <th>description</th>\n",
       "      <th>thumbnails</th>\n",
       "      <th>channelTitle</th>\n",
       "      <th>search_query</th>\n",
       "    </tr>\n",
       "  </thead>\n",
       "  <tbody>\n",
       "    <tr>\n",
       "      <th>0</th>\n",
       "      <td>DcJmieh0PNQ</td>\n",
       "      <td>2022-11-21T18:26:08Z</td>\n",
       "      <td>UCaUxtzs5Qe8KgY2Jha88DoQ</td>\n",
       "      <td>Activate Mint mobile Sim card tutorial Part 1 ...</td>\n",
       "      <td>Mint mobile is a Mnvo of T- mobile. I have had...</td>\n",
       "      <td>{'default': {'url': 'https://i.ytimg.com/vi/Dc...</td>\n",
       "      <td>Nate337</td>\n",
       "      <td>fbuy.me/</td>\n",
       "    </tr>\n",
       "    <tr>\n",
       "      <th>1</th>\n",
       "      <td>gpykL_RuLug</td>\n",
       "      <td>2023-04-02T20:12:48Z</td>\n",
       "      <td>UCaUxtzs5Qe8KgY2Jha88DoQ</td>\n",
       "      <td>Mint Mobile referral code for awesome bonus ht...</td>\n",
       "      <td>Updated Mint Mobile Plans [More Data] my refer...</td>\n",
       "      <td>{'default': {'url': 'https://i.ytimg.com/vi/gp...</td>\n",
       "      <td>Nate337</td>\n",
       "      <td>fbuy.me/</td>\n",
       "    </tr>\n",
       "    <tr>\n",
       "      <th>2</th>\n",
       "      <td>W-ATf87ILcY</td>\n",
       "      <td>2022-07-28T13:00:16Z</td>\n",
       "      <td>UCENTmbKaTphpWV2R2evVz2A</td>\n",
       "      <td>1 Year with Mint Mobile - 4GB/5GB, $15 a month...</td>\n",
       "      <td>Join Mint Mobile and get $15 credit: http://fb...</td>\n",
       "      <td>{'default': {'url': 'https://i.ytimg.com/vi/W-...</td>\n",
       "      <td>James Montemagno</td>\n",
       "      <td>fbuy.me/</td>\n",
       "    </tr>\n",
       "    <tr>\n",
       "      <th>3</th>\n",
       "      <td>TMFE3pK_Bh4</td>\n",
       "      <td>2022-09-12T20:55:48Z</td>\n",
       "      <td>UCkYBEPVE0vRMrAbiwGjsaTQ</td>\n",
       "      <td>Need a Mint mobile discount code  Link Descrip...</td>\n",
       "      <td>Using the following link http://fbuy.me/tevSq.</td>\n",
       "      <td>{'default': {'url': 'https://i.ytimg.com/vi/TM...</td>\n",
       "      <td>cityofnopity2</td>\n",
       "      <td>fbuy.me/</td>\n",
       "    </tr>\n",
       "    <tr>\n",
       "      <th>4</th>\n",
       "      <td>kHqeLfeXa6M</td>\n",
       "      <td>2017-06-15T18:09:10Z</td>\n",
       "      <td>UCcuc_cncDg54d5T1DdXKL1Q</td>\n",
       "      <td>Kid Pik Box #1 June 2017 code: http://fbuy.me/...</td>\n",
       "      <td>This was our first kid pik box although my box...</td>\n",
       "      <td>{'default': {'url': 'https://i.ytimg.com/vi/kH...</td>\n",
       "      <td>Angel Escobar</td>\n",
       "      <td>fbuy.me/</td>\n",
       "    </tr>\n",
       "  </tbody>\n",
       "</table>\n",
       "</div>"
      ],
      "text/plain": [
       "       videoId           publishedAt                 channelId  \\\n",
       "0  DcJmieh0PNQ  2022-11-21T18:26:08Z  UCaUxtzs5Qe8KgY2Jha88DoQ   \n",
       "1  gpykL_RuLug  2023-04-02T20:12:48Z  UCaUxtzs5Qe8KgY2Jha88DoQ   \n",
       "2  W-ATf87ILcY  2022-07-28T13:00:16Z  UCENTmbKaTphpWV2R2evVz2A   \n",
       "3  TMFE3pK_Bh4  2022-09-12T20:55:48Z  UCkYBEPVE0vRMrAbiwGjsaTQ   \n",
       "4  kHqeLfeXa6M  2017-06-15T18:09:10Z  UCcuc_cncDg54d5T1DdXKL1Q   \n",
       "\n",
       "                                               title  \\\n",
       "0  Activate Mint mobile Sim card tutorial Part 1 ...   \n",
       "1  Mint Mobile referral code for awesome bonus ht...   \n",
       "2  1 Year with Mint Mobile - 4GB/5GB, $15 a month...   \n",
       "3  Need a Mint mobile discount code  Link Descrip...   \n",
       "4  Kid Pik Box #1 June 2017 code: http://fbuy.me/...   \n",
       "\n",
       "                                         description  \\\n",
       "0  Mint mobile is a Mnvo of T- mobile. I have had...   \n",
       "1  Updated Mint Mobile Plans [More Data] my refer...   \n",
       "2  Join Mint Mobile and get $15 credit: http://fb...   \n",
       "3     Using the following link http://fbuy.me/tevSq.   \n",
       "4  This was our first kid pik box although my box...   \n",
       "\n",
       "                                          thumbnails      channelTitle  \\\n",
       "0  {'default': {'url': 'https://i.ytimg.com/vi/Dc...           Nate337   \n",
       "1  {'default': {'url': 'https://i.ytimg.com/vi/gp...           Nate337   \n",
       "2  {'default': {'url': 'https://i.ytimg.com/vi/W-...  James Montemagno   \n",
       "3  {'default': {'url': 'https://i.ytimg.com/vi/TM...     cityofnopity2   \n",
       "4  {'default': {'url': 'https://i.ytimg.com/vi/kH...     Angel Escobar   \n",
       "\n",
       "  search_query  \n",
       "0     fbuy.me/  \n",
       "1     fbuy.me/  \n",
       "2     fbuy.me/  \n",
       "3     fbuy.me/  \n",
       "4     fbuy.me/  "
      ]
     },
     "execution_count": 3,
     "metadata": {},
     "output_type": "execute_result"
    }
   ],
   "source": [
    "df.head()"
   ]
  },
  {
   "cell_type": "code",
   "execution_count": 4,
   "metadata": {},
   "outputs": [],
   "source": [
    "urls = []"
   ]
  },
  {
   "cell_type": "code",
   "execution_count": 23,
   "metadata": {},
   "outputs": [
    {
     "name": "stdout",
     "output_type": "stream",
     "text": [
      "My bad for Smacking ❤️ SUBSCRIBE THO Let me know if you like the video down below !! #POLICECHASE #DIFFERNTLIFE ...\n"
     ]
    }
   ],
   "source": [
    "print(df.at[1234, 'description'])"
   ]
  },
  {
   "cell_type": "code",
   "execution_count": 22,
   "metadata": {},
   "outputs": [
    {
     "data": {
      "text/plain": [
       "'4TQF0QiskD0'"
      ]
     },
     "execution_count": 22,
     "metadata": {},
     "output_type": "execute_result"
    }
   ],
   "source": [
    "df.at[1234, 'videoId']"
   ]
  },
  {
   "cell_type": "code",
   "execution_count": 24,
   "metadata": {},
   "outputs": [
    {
     "name": "stdout",
     "output_type": "stream",
     "text": [
      "Mint mobile is a Mnvo of T- mobile. I have had mint mobile as well as regular t mobile for the past 3 years, there is a negligible ...\n"
     ]
    }
   ],
   "source": [
    "print(df.at[0, 'description'])"
   ]
  },
  {
   "cell_type": "code",
   "execution_count": 11,
   "metadata": {},
   "outputs": [
    {
     "name": "stderr",
     "output_type": "stream",
     "text": [
      "100%|██████████| 26646/26646 [00:00<00:00, 143572.86it/s]\n"
     ]
    }
   ],
   "source": [
    "import re\n",
    "from tqdm import tqdm\n",
    "\n",
    "for i in tqdm(range(len(df))):\n",
    "    url_regex = r'https?://[-A-Za-z0-9+&@#/%?=~_|!:,.;]+[-A-Za-z0-9+&@#/%=~_|]'\n",
    "    extracted_urls = re.findall(url_regex, str(df.at[i, 'description']), re.MULTILINE)\n",
    "    urls += extracted_urls"
   ]
  },
  {
   "cell_type": "code",
   "execution_count": 12,
   "metadata": {},
   "outputs": [
    {
     "data": {
      "text/plain": [
       "12830"
      ]
     },
     "execution_count": 12,
     "metadata": {},
     "output_type": "execute_result"
    }
   ],
   "source": [
    "len(urls)"
   ]
  },
  {
   "cell_type": "code",
   "execution_count": 25,
   "metadata": {},
   "outputs": [],
   "source": [
    "df = pd.DataFrame(data = urls, columns=['url'])"
   ]
  },
  {
   "cell_type": "code",
   "execution_count": 26,
   "metadata": {},
   "outputs": [
    {
     "data": {
      "text/html": [
       "<div>\n",
       "<style scoped>\n",
       "    .dataframe tbody tr th:only-of-type {\n",
       "        vertical-align: middle;\n",
       "    }\n",
       "\n",
       "    .dataframe tbody tr th {\n",
       "        vertical-align: top;\n",
       "    }\n",
       "\n",
       "    .dataframe thead th {\n",
       "        text-align: right;\n",
       "    }\n",
       "</style>\n",
       "<table border=\"1\" class=\"dataframe\">\n",
       "  <thead>\n",
       "    <tr style=\"text-align: right;\">\n",
       "      <th></th>\n",
       "      <th>url</th>\n",
       "    </tr>\n",
       "  </thead>\n",
       "  <tbody>\n",
       "    <tr>\n",
       "      <th>0</th>\n",
       "      <td>http://fbuy.me/rOqMk</td>\n",
       "    </tr>\n",
       "    <tr>\n",
       "      <th>1</th>\n",
       "      <td>http://fbuy.me/tUtSK</td>\n",
       "    </tr>\n",
       "    <tr>\n",
       "      <th>2</th>\n",
       "      <td>http://fbuy.me/tevSq</td>\n",
       "    </tr>\n",
       "    <tr>\n",
       "      <th>3</th>\n",
       "      <td>http://fbuy.me/ndX4m</td>\n",
       "    </tr>\n",
       "    <tr>\n",
       "      <th>4</th>\n",
       "      <td>http://fbuy.me/rOqMk</td>\n",
       "    </tr>\n",
       "    <tr>\n",
       "      <th>...</th>\n",
       "      <td>...</td>\n",
       "    </tr>\n",
       "    <tr>\n",
       "      <th>12825</th>\n",
       "      <td>https://www.donationalerts.ru/r/marineguloyan</td>\n",
       "    </tr>\n",
       "    <tr>\n",
       "      <th>12826</th>\n",
       "      <td>https://youtu.be/CO0E9S3DiH4</td>\n",
       "    </tr>\n",
       "    <tr>\n",
       "      <th>12827</th>\n",
       "      <td>http://epngo.bz/cashback_index/yqn38f</td>\n",
       "    </tr>\n",
       "    <tr>\n",
       "      <th>12828</th>\n",
       "      <td>http://shopeasy.by/cashback/view/oyc1l61dc1fmy...</td>\n",
       "    </tr>\n",
       "    <tr>\n",
       "      <th>12829</th>\n",
       "      <td>http://epnclick.ru/cashback/view/pfcimfqbktuj6...</td>\n",
       "    </tr>\n",
       "  </tbody>\n",
       "</table>\n",
       "<p>12830 rows × 1 columns</p>\n",
       "</div>"
      ],
      "text/plain": [
       "                                                     url\n",
       "0                                   http://fbuy.me/rOqMk\n",
       "1                                   http://fbuy.me/tUtSK\n",
       "2                                   http://fbuy.me/tevSq\n",
       "3                                   http://fbuy.me/ndX4m\n",
       "4                                   http://fbuy.me/rOqMk\n",
       "...                                                  ...\n",
       "12825      https://www.donationalerts.ru/r/marineguloyan\n",
       "12826                       https://youtu.be/CO0E9S3DiH4\n",
       "12827              http://epngo.bz/cashback_index/yqn38f\n",
       "12828  http://shopeasy.by/cashback/view/oyc1l61dc1fmy...\n",
       "12829  http://epnclick.ru/cashback/view/pfcimfqbktuj6...\n",
       "\n",
       "[12830 rows x 1 columns]"
      ]
     },
     "execution_count": 26,
     "metadata": {},
     "output_type": "execute_result"
    }
   ],
   "source": [
    "df"
   ]
  },
  {
   "cell_type": "code",
   "execution_count": 27,
   "metadata": {},
   "outputs": [],
   "source": [
    "df = df.drop_duplicates()"
   ]
  },
  {
   "cell_type": "code",
   "execution_count": 28,
   "metadata": {},
   "outputs": [],
   "source": [
    "df.reset_index(drop=True, inplace=True)"
   ]
  },
  {
   "cell_type": "code",
   "execution_count": 29,
   "metadata": {},
   "outputs": [
    {
     "data": {
      "text/html": [
       "<div>\n",
       "<style scoped>\n",
       "    .dataframe tbody tr th:only-of-type {\n",
       "        vertical-align: middle;\n",
       "    }\n",
       "\n",
       "    .dataframe tbody tr th {\n",
       "        vertical-align: top;\n",
       "    }\n",
       "\n",
       "    .dataframe thead th {\n",
       "        text-align: right;\n",
       "    }\n",
       "</style>\n",
       "<table border=\"1\" class=\"dataframe\">\n",
       "  <thead>\n",
       "    <tr style=\"text-align: right;\">\n",
       "      <th></th>\n",
       "      <th>url</th>\n",
       "    </tr>\n",
       "  </thead>\n",
       "  <tbody>\n",
       "    <tr>\n",
       "      <th>0</th>\n",
       "      <td>http://fbuy.me/rOqMk</td>\n",
       "    </tr>\n",
       "    <tr>\n",
       "      <th>1</th>\n",
       "      <td>http://fbuy.me/tUtSK</td>\n",
       "    </tr>\n",
       "    <tr>\n",
       "      <th>2</th>\n",
       "      <td>http://fbuy.me/tevSq</td>\n",
       "    </tr>\n",
       "    <tr>\n",
       "      <th>3</th>\n",
       "      <td>http://fbuy.me/ndX4m</td>\n",
       "    </tr>\n",
       "    <tr>\n",
       "      <th>4</th>\n",
       "      <td>https://www.picmonic.com/viphookup/medicosis/</td>\n",
       "    </tr>\n",
       "    <tr>\n",
       "      <th>...</th>\n",
       "      <td>...</td>\n",
       "    </tr>\n",
       "    <tr>\n",
       "      <th>4885</th>\n",
       "      <td>http://epnclick.ru/cashback/view/pokf4491qkyxg...</td>\n",
       "    </tr>\n",
       "    <tr>\n",
       "      <th>4886</th>\n",
       "      <td>https://www.donationalerts.ru/r/marineguloyan</td>\n",
       "    </tr>\n",
       "    <tr>\n",
       "      <th>4887</th>\n",
       "      <td>http://epngo.bz/cashback_index/yqn38f</td>\n",
       "    </tr>\n",
       "    <tr>\n",
       "      <th>4888</th>\n",
       "      <td>http://shopeasy.by/cashback/view/oyc1l61dc1fmy...</td>\n",
       "    </tr>\n",
       "    <tr>\n",
       "      <th>4889</th>\n",
       "      <td>http://epnclick.ru/cashback/view/pfcimfqbktuj6...</td>\n",
       "    </tr>\n",
       "  </tbody>\n",
       "</table>\n",
       "<p>4890 rows × 1 columns</p>\n",
       "</div>"
      ],
      "text/plain": [
       "                                                    url\n",
       "0                                  http://fbuy.me/rOqMk\n",
       "1                                  http://fbuy.me/tUtSK\n",
       "2                                  http://fbuy.me/tevSq\n",
       "3                                  http://fbuy.me/ndX4m\n",
       "4         https://www.picmonic.com/viphookup/medicosis/\n",
       "...                                                 ...\n",
       "4885  http://epnclick.ru/cashback/view/pokf4491qkyxg...\n",
       "4886      https://www.donationalerts.ru/r/marineguloyan\n",
       "4887              http://epngo.bz/cashback_index/yqn38f\n",
       "4888  http://shopeasy.by/cashback/view/oyc1l61dc1fmy...\n",
       "4889  http://epnclick.ru/cashback/view/pfcimfqbktuj6...\n",
       "\n",
       "[4890 rows x 1 columns]"
      ]
     },
     "execution_count": 29,
     "metadata": {},
     "output_type": "execute_result"
    }
   ],
   "source": [
    "df"
   ]
  },
  {
   "cell_type": "code",
   "execution_count": 30,
   "metadata": {},
   "outputs": [],
   "source": [
    "df.to_excel('./data/to find substrings/youtube-urls-76-substrings.xlsx')"
   ]
  }
 ],
 "metadata": {
  "kernelspec": {
   "display_name": "py37",
   "language": "python",
   "name": "python3"
  },
  "language_info": {
   "codemirror_mode": {
    "name": "ipython",
    "version": 3
   },
   "file_extension": ".py",
   "mimetype": "text/x-python",
   "name": "python",
   "nbconvert_exporter": "python",
   "pygments_lexer": "ipython3",
   "version": "3.7.10"
  },
  "orig_nbformat": 4
 },
 "nbformat": 4,
 "nbformat_minor": 2
}
