{
 "cells": [
  {
   "cell_type": "code",
   "execution_count": 1,
   "metadata": {},
   "outputs": [],
   "source": [
    "import sqlite3\n",
    "import re\n",
    "import pandas as pd\n",
    "from bs4 import BeautifulSoup\n",
    "from tqdm import tqdm\n"
   ]
  },
  {
   "cell_type": "code",
   "execution_count": 2,
   "metadata": {},
   "outputs": [
    {
     "name": "stderr",
     "output_type": "stream",
     "text": [
      "100%|██████████| 48005/48005 [1:35:22<00:00,  8.39it/s]\n"
     ]
    }
   ],
   "source": [
    "# 连接到数据库\n",
    "conn = sqlite3.connect('html_data.db')\n",
    "cursor = conn.cursor()\n",
    "cursor.execute(\"SELECT url FROM html_data_125substr WHERE status_code = 200\")\n",
    "results = cursor.fetchall()\n",
    "conn.close()\n",
    "\n",
    "url_regex = r'https?:\/\/[-A-Za-z0-9+&@#/%?=~_|!:,.;]+[-A-Za-z0-9+&@#/%=~_|]'\n",
    "query = \"SELECT html FROM html_data_125substr WHERE url = ?\"\n",
    "data = []\n",
    "for row in tqdm(results):\n",
    "    link = row[0]\n",
    "    # 连接到数据库\n",
    "    conn = sqlite3.connect('html_data.db')\n",
    "    cursor = conn.cursor()\n",
    "    # 执行查询\n",
    "    cursor.execute(query, (link,))\n",
    "    result = cursor.fetchall()\n",
    "    conn.close()\n",
    "\n",
    "    html = result[0][0]\n",
    "    extracted_urls = re.findall(url_regex, html, re.MULTILINE)\n",
    "\n",
    "    # 将提取到的URL添加到列表中\n",
    "    for url in extracted_urls:\n",
    "        data.append({'page': link, 'url': url})\n",
    "    # break"
   ]
  },
  {
   "cell_type": "code",
   "execution_count": 3,
   "metadata": {},
   "outputs": [],
   "source": [
    "# 将数据列表转换为DataFrame\n",
    "df = pd.DataFrame(data)\n",
    "df.to_feather('./data/urls in webpage/urls-in-html-125substr.feather')"
   ]
  }
 ],
 "metadata": {
  "kernelspec": {
   "display_name": "py37",
   "language": "python",
   "name": "python3"
  },
  "language_info": {
   "codemirror_mode": {
    "name": "ipython",
    "version": 3
   },
   "file_extension": ".py",
   "mimetype": "text/x-python",
   "name": "python",
   "nbconvert_exporter": "python",
   "pygments_lexer": "ipython3",
   "version": "3.7.10"
  },
  "orig_nbformat": 4
 },
 "nbformat": 4,
 "nbformat_minor": 2
}
