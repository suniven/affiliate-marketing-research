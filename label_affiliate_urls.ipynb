{
 "cells": [
  {
   "cell_type": "code",
   "execution_count": 1,
   "metadata": {},
   "outputs": [],
   "source": [
    "from concurrent.futures import ThreadPoolExecutor, as_completed\n",
    "from tqdm import tqdm\n",
    "import pandas as pd"
   ]
  },
  {
   "cell_type": "code",
   "execution_count": 5,
   "metadata": {},
   "outputs": [],
   "source": [
    "with open('./substr集合.txt', 'r') as f:\n",
    "    strings = f.readlines()\n",
    "strings = [s.strip() for s in strings]\n",
    "\n",
    "df = pd.read_feather('./data/urls in webpage/urls-in-html-125substr.feather')"
   ]
  },
  {
   "cell_type": "code",
   "execution_count": 6,
   "metadata": {},
   "outputs": [
    {
     "data": {
      "text/plain": [
       "(20960260, 2)"
      ]
     },
     "execution_count": 6,
     "metadata": {},
     "output_type": "execute_result"
    }
   ],
   "source": [
    "df.shape"
   ]
  },
  {
   "cell_type": "code",
   "execution_count": 7,
   "metadata": {},
   "outputs": [
    {
     "data": {
      "text/html": [
       "<div>\n",
       "<style scoped>\n",
       "    .dataframe tbody tr th:only-of-type {\n",
       "        vertical-align: middle;\n",
       "    }\n",
       "\n",
       "    .dataframe tbody tr th {\n",
       "        vertical-align: top;\n",
       "    }\n",
       "\n",
       "    .dataframe thead th {\n",
       "        text-align: right;\n",
       "    }\n",
       "</style>\n",
       "<table border=\"1\" class=\"dataframe\">\n",
       "  <thead>\n",
       "    <tr style=\"text-align: right;\">\n",
       "      <th></th>\n",
       "      <th>page</th>\n",
       "      <th>url</th>\n",
       "    </tr>\n",
       "  </thead>\n",
       "  <tbody>\n",
       "    <tr>\n",
       "      <th>0</th>\n",
       "      <td>https://www.youtube.com/watch?v=Ukt6Mr48vZg</td>\n",
       "      <td>https://fonts.googleapis.com/css?family=YouTub...</td>\n",
       "    </tr>\n",
       "    <tr>\n",
       "      <th>1</th>\n",
       "      <td>https://www.youtube.com/watch?v=Ukt6Mr48vZg</td>\n",
       "      <td>https://fonts.googleapis.com/css?family=Roboto...</td>\n",
       "    </tr>\n",
       "    <tr>\n",
       "      <th>2</th>\n",
       "      <td>https://www.youtube.com/watch?v=Ukt6Mr48vZg</td>\n",
       "      <td>https://www.youtube.com/img/desktop/supported_...</td>\n",
       "    </tr>\n",
       "    <tr>\n",
       "      <th>3</th>\n",
       "      <td>https://www.youtube.com/watch?v=Ukt6Mr48vZg</td>\n",
       "      <td>https://www.youtube.com/img/desktop/supported_...</td>\n",
       "    </tr>\n",
       "    <tr>\n",
       "      <th>4</th>\n",
       "      <td>https://www.youtube.com/watch?v=Ukt6Mr48vZg</td>\n",
       "      <td>https://support.google.com/youtube/answer/175292</td>\n",
       "    </tr>\n",
       "  </tbody>\n",
       "</table>\n",
       "</div>"
      ],
      "text/plain": [
       "                                          page  \\\n",
       "0  https://www.youtube.com/watch?v=Ukt6Mr48vZg   \n",
       "1  https://www.youtube.com/watch?v=Ukt6Mr48vZg   \n",
       "2  https://www.youtube.com/watch?v=Ukt6Mr48vZg   \n",
       "3  https://www.youtube.com/watch?v=Ukt6Mr48vZg   \n",
       "4  https://www.youtube.com/watch?v=Ukt6Mr48vZg   \n",
       "\n",
       "                                                 url  \n",
       "0  https://fonts.googleapis.com/css?family=YouTub...  \n",
       "1  https://fonts.googleapis.com/css?family=Roboto...  \n",
       "2  https://www.youtube.com/img/desktop/supported_...  \n",
       "3  https://www.youtube.com/img/desktop/supported_...  \n",
       "4   https://support.google.com/youtube/answer/175292  "
      ]
     },
     "execution_count": 7,
     "metadata": {},
     "output_type": "execute_result"
    }
   ],
   "source": [
    "df.head()"
   ]
  },
  {
   "cell_type": "code",
   "execution_count": 9,
   "metadata": {},
   "outputs": [
    {
     "data": {
      "text/plain": [
       "'http://lddy.no/9...&quot'"
      ]
     },
     "execution_count": 9,
     "metadata": {},
     "output_type": "execute_result"
    }
   ],
   "source": [
    "df.loc[566,'url']"
   ]
  },
  {
   "cell_type": "code",
   "execution_count": 18,
   "metadata": {},
   "outputs": [],
   "source": [
    "df.is_affiliate = 0\n",
    "df.query = \"\""
   ]
  },
  {
   "cell_type": "code",
   "execution_count": 23,
   "metadata": {},
   "outputs": [],
   "source": [
    "df = df.assign(query=df['query'].astype(str))"
   ]
  },
  {
   "cell_type": "code",
   "execution_count": 24,
   "metadata": {},
   "outputs": [
    {
     "data": {
      "text/plain": [
       "page            object\n",
       "url             object\n",
       "is_affiliate     int64\n",
       "query           object\n",
       "dtype: object"
      ]
     },
     "execution_count": 24,
     "metadata": {},
     "output_type": "execute_result"
    }
   ],
   "source": [
    "df.dtypes"
   ]
  },
  {
   "cell_type": "code",
   "execution_count": 25,
   "metadata": {},
   "outputs": [
    {
     "name": "stderr",
     "output_type": "stream",
     "text": [
      "  0%|          | 0/20960260 [00:00<?, ?it/s]"
     ]
    },
    {
     "name": "stderr",
     "output_type": "stream",
     "text": [
      "100%|██████████| 20960260/20960260 [09:26<00:00, 37016.15it/s]\n"
     ]
    }
   ],
   "source": [
    "for index in tqdm(range(len(df))):\n",
    "    url = df.at[index, 'url']\n",
    "    for string in strings:\n",
    "        if string in url:\n",
    "            df.at[index, 'is_affiliate'] = 1\n",
    "            df.at[index, 'query'] = string\n",
    "            break"
   ]
  },
  {
   "cell_type": "code",
   "execution_count": 26,
   "metadata": {},
   "outputs": [],
   "source": [
    "df.to_feather('./data/urls in webpage/urls-in-html-125substr-labeled.feather')\n"
   ]
  }
 ],
 "metadata": {
  "kernelspec": {
   "display_name": "py38",
   "language": "python",
   "name": "python3"
  },
  "language_info": {
   "codemirror_mode": {
    "name": "ipython",
    "version": 3
   },
   "file_extension": ".py",
   "mimetype": "text/x-python",
   "name": "python",
   "nbconvert_exporter": "python",
   "pygments_lexer": "ipython3",
   "version": "3.7.10"
  },
  "orig_nbformat": 4
 },
 "nbformat": 4,
 "nbformat_minor": 2
}
