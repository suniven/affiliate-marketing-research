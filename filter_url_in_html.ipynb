{
 "cells": [
  {
   "cell_type": "code",
   "execution_count": 1,
   "metadata": {},
   "outputs": [],
   "source": [
    "import pandas as pd"
   ]
  },
  {
   "cell_type": "code",
   "execution_count": 2,
   "metadata": {},
   "outputs": [],
   "source": [
    "df = pd.read_feather('./data/urls in webpage/urls-in-html.feather')"
   ]
  },
  {
   "cell_type": "code",
   "execution_count": 3,
   "metadata": {},
   "outputs": [
    {
     "data": {
      "text/plain": [
       "(31484490, 2)"
      ]
     },
     "execution_count": 3,
     "metadata": {},
     "output_type": "execute_result"
    }
   ],
   "source": [
    "df.shape"
   ]
  },
  {
   "cell_type": "code",
   "execution_count": 5,
   "metadata": {},
   "outputs": [
    {
     "data": {
      "text/html": [
       "<div>\n",
       "<style scoped>\n",
       "    .dataframe tbody tr th:only-of-type {\n",
       "        vertical-align: middle;\n",
       "    }\n",
       "\n",
       "    .dataframe tbody tr th {\n",
       "        vertical-align: top;\n",
       "    }\n",
       "\n",
       "    .dataframe thead th {\n",
       "        text-align: right;\n",
       "    }\n",
       "</style>\n",
       "<table border=\"1\" class=\"dataframe\">\n",
       "  <thead>\n",
       "    <tr style=\"text-align: right;\">\n",
       "      <th></th>\n",
       "      <th>page</th>\n",
       "      <th>url</th>\n",
       "    </tr>\n",
       "  </thead>\n",
       "  <tbody>\n",
       "    <tr>\n",
       "      <th>0</th>\n",
       "      <td>https://www.deezer.com/fr/show/1068072</td>\n",
       "      <td>http://www.facebook.com/2008/fbml</td>\n",
       "    </tr>\n",
       "    <tr>\n",
       "      <th>1</th>\n",
       "      <td>https://www.deezer.com/fr/show/1068072</td>\n",
       "      <td>https://e-cdn-files.dzcdn.net/cache/images/com...</td>\n",
       "    </tr>\n",
       "    <tr>\n",
       "      <th>2</th>\n",
       "      <td>https://www.deezer.com/fr/show/1068072</td>\n",
       "      <td>https://e-cdn-files.dzcdn.net/cache/images/com...</td>\n",
       "    </tr>\n",
       "    <tr>\n",
       "      <th>3</th>\n",
       "      <td>https://www.deezer.com/fr/show/1068072</td>\n",
       "      <td>https://e-cdn-files.dzcdn.net/cache/images/com...</td>\n",
       "    </tr>\n",
       "    <tr>\n",
       "      <th>4</th>\n",
       "      <td>https://www.deezer.com/fr/show/1068072</td>\n",
       "      <td>https://e-cdn-files.dzcdn.net/cache/images/com...</td>\n",
       "    </tr>\n",
       "  </tbody>\n",
       "</table>\n",
       "</div>"
      ],
      "text/plain": [
       "                                     page  \\\n",
       "0  https://www.deezer.com/fr/show/1068072   \n",
       "1  https://www.deezer.com/fr/show/1068072   \n",
       "2  https://www.deezer.com/fr/show/1068072   \n",
       "3  https://www.deezer.com/fr/show/1068072   \n",
       "4  https://www.deezer.com/fr/show/1068072   \n",
       "\n",
       "                                                 url  \n",
       "0                  http://www.facebook.com/2008/fbml  \n",
       "1  https://e-cdn-files.dzcdn.net/cache/images/com...  \n",
       "2  https://e-cdn-files.dzcdn.net/cache/images/com...  \n",
       "3  https://e-cdn-files.dzcdn.net/cache/images/com...  \n",
       "4  https://e-cdn-files.dzcdn.net/cache/images/com...  "
      ]
     },
     "execution_count": 5,
     "metadata": {},
     "output_type": "execute_result"
    }
   ],
   "source": [
    "df.head()"
   ]
  },
  {
   "cell_type": "code",
   "execution_count": null,
   "metadata": {},
   "outputs": [],
   "source": []
  }
 ],
 "metadata": {
  "kernelspec": {
   "display_name": "py37",
   "language": "python",
   "name": "python3"
  },
  "language_info": {
   "codemirror_mode": {
    "name": "ipython",
    "version": 3
   },
   "file_extension": ".py",
   "mimetype": "text/x-python",
   "name": "python",
   "nbconvert_exporter": "python",
   "pygments_lexer": "ipython3",
   "version": "3.7.10"
  },
  "orig_nbformat": 4
 },
 "nbformat": 4,
 "nbformat_minor": 2
}
